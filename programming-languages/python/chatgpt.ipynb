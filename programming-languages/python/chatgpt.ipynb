{
 "cells": [
  {
   "cell_type": "markdown",
   "metadata": {
    "id": "OmsatvXxLDkj"
   },
   "source": [
    "# GPT Running"
   ]
  },
  {
   "cell_type": "code",
   "execution_count": null,
   "metadata": {
    "colab": {
     "base_uri": "https://localhost:8080/"
    },
    "executionInfo": {
     "elapsed": 9598,
     "status": "ok",
     "timestamp": 1690460936663,
     "user": {
      "displayName": "Art Wang",
      "userId": "03136971888294073570"
     },
     "user_tz": -60
    },
    "id": "RXPNASagLvQi",
    "outputId": "1a837bdc-7417-41f5-98fd-89ec8c13e580"
   },
   "outputs": [],
   "source": [
    "pip install openai"
   ]
  },
  {
   "cell_type": "code",
   "execution_count": null,
   "metadata": {
    "id": "4jKR3WJ4mxfB"
   },
   "outputs": [],
   "source": [
    "import openai\n",
    "import time\n",
    "\n",
    "def runGPT(prompt):\n",
    "  openai.api_key =\"chatgpt api\"\n",
    "  while True:\n",
    "    try:\n",
    "      res = openai.ChatCompletion.create(\n",
    "      model=\"gpt-4-0314\",\n",
    "      messages=[\n",
    "                #{'role': 'system', 'content': \"i am doing a quiz. I will provide  questions along with their options. please select the one fitting the most\"},\n",
    "                {'role': 'user', 'content': prompt}\n",
    "            ],\n",
    "        )\n",
    "      content = res['choices'][0]['message']['content']\n",
    "      break\n",
    "    except openai.error.RateLimitError as error:\n",
    "      continue\n",
    "  return content\n"
   ]
  },
  {
   "cell_type": "code",
   "execution_count": null,
   "metadata": {
    "id": "4-uA-KAbD_D9"
   },
   "outputs": [],
   "source": [
    "prompt_content = \"\"\"question\"\"\""
   ]
  },
  {
   "cell_type": "code",
   "execution_count": null,
   "metadata": {
    "id": "lPG-8hZlJuV9"
   },
   "outputs": [],
   "source": [
    "print(runGPT(prompt_content))"
   ]
  }
 ],
 "metadata": {
  "colab": {
   "authorship_tag": "ABX9TyMTINHwXkGHI8RBC8rE3VE5",
   "mount_file_id": "1SCqUZiTJyH4RxlH8C9FpDLTd5VhCPf7S",
   "provenance": []
  },
  "kernelspec": {
   "display_name": "Python 3 (ipykernel)",
   "language": "python",
   "name": "python3"
  },
  "language_info": {
   "codemirror_mode": {
    "name": "ipython",
    "version": 3
   },
   "file_extension": ".py",
   "mimetype": "text/x-python",
   "name": "python",
   "nbconvert_exporter": "python",
   "pygments_lexer": "ipython3",
   "version": "3.12.2"
  }
 },
 "nbformat": 4,
 "nbformat_minor": 4
}
